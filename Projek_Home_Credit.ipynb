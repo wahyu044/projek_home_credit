{
  "nbformat": 4,
  "nbformat_minor": 0,
  "metadata": {
    "colab": {
      "name": "Projek Home Credit",
      "provenance": []
    },
    "kernelspec": {
      "name": "python3",
      "display_name": "Python 3"
    },
    "language_info": {
      "name": "python"
    }
  },
  "cells": [
    {
      "cell_type": "markdown",
      "source": [
        "# LIBRARIES"
      ],
      "metadata": {
        "id": "sVIjPcSjNRlc"
      }
    },
    {
      "cell_type": "code",
      "execution_count": 1,
      "metadata": {
        "id": "IeXvu_V6BZx-"
      },
      "outputs": [],
      "source": [
        "import numpy as np \n",
        "import pandas as pd \n",
        "import matplotlib.pyplot as plt \n",
        "import seaborn as sns \n",
        "sns.set()\n",
        "\n",
        "import warnings\n",
        "warnings.filterwarnings('ignore')"
      ]
    },
    {
      "cell_type": "markdown",
      "source": [
        "# IMPORTING DATA "
      ],
      "metadata": {
        "id": "ssZeTLKtNYZ3"
      }
    },
    {
      "cell_type": "code",
      "source": [
        "from google.colab import drive\n",
        "drive.mount('/gdrive')\n",
        "%cd /gdrive"
      ],
      "metadata": {
        "colab": {
          "base_uri": "https://localhost:8080/"
        },
        "id": "R8tQ2UEfLSpq",
        "outputId": "babb8124-2838-43c9-dc84-371293c18162"
      },
      "execution_count": 2,
      "outputs": [
        {
          "output_type": "stream",
          "name": "stdout",
          "text": [
            "Drive already mounted at /gdrive; to attempt to forcibly remount, call drive.mount(\"/gdrive\", force_remount=True).\n",
            "/gdrive\n"
          ]
        }
      ]
    },
    {
      "cell_type": "code",
      "source": [
        "data_raw = pd.read_csv('/gdrive/My Drive/home credit/application_train.csv', index_col=0)"
      ],
      "metadata": {
        "id": "p0jJR-vGJ4Uj"
      },
      "execution_count": 3,
      "outputs": []
    },
    {
      "cell_type": "markdown",
      "source": [
        "# EXPLORING DATA "
      ],
      "metadata": {
        "id": "MMT5b6cIk3OU"
      }
    },
    {
      "cell_type": "code",
      "source": [
        "data_raw.shape"
      ],
      "metadata": {
        "colab": {
          "base_uri": "https://localhost:8080/"
        },
        "id": "YRb-zFsBkxtc",
        "outputId": "57367a4f-4491-4f1e-aabd-0e52edb850b9"
      },
      "execution_count": 4,
      "outputs": [
        {
          "output_type": "execute_result",
          "data": {
            "text/plain": [
              "(307511, 121)"
            ]
          },
          "metadata": {},
          "execution_count": 4
        }
      ]
    },
    {
      "cell_type": "code",
      "source": [
        "data_raw.info()"
      ],
      "metadata": {
        "colab": {
          "base_uri": "https://localhost:8080/"
        },
        "id": "RmRv-jLSk588",
        "outputId": "cb7f546b-7ae6-4b76-f9bf-cc7588a2d20c"
      },
      "execution_count": 5,
      "outputs": [
        {
          "output_type": "stream",
          "name": "stdout",
          "text": [
            "<class 'pandas.core.frame.DataFrame'>\n",
            "Int64Index: 307511 entries, 100002 to 456255\n",
            "Columns: 121 entries, TARGET to AMT_REQ_CREDIT_BUREAU_YEAR\n",
            "dtypes: float64(65), int64(40), object(16)\n",
            "memory usage: 286.2+ MB\n"
          ]
        }
      ]
    },
    {
      "cell_type": "code",
      "source": [
        "data_raw.sample(5)"
      ],
      "metadata": {
        "colab": {
          "base_uri": "https://localhost:8080/",
          "height": 331
        },
        "id": "HZf9mdC8k7-I",
        "outputId": "38ba7fc2-8892-40ac-94e1-7d877ff9597e"
      },
      "execution_count": 6,
      "outputs": [
        {
          "output_type": "execute_result",
          "data": {
            "text/plain": [
              "            TARGET NAME_CONTRACT_TYPE CODE_GENDER FLAG_OWN_CAR  \\\n",
              "SK_ID_CURR                                                       \n",
              "361521           0         Cash loans           M            Y   \n",
              "447253           0         Cash loans           M            N   \n",
              "223657           0    Revolving loans           F            Y   \n",
              "418631           0         Cash loans           F            N   \n",
              "429713           0         Cash loans           M            N   \n",
              "\n",
              "           FLAG_OWN_REALTY  CNT_CHILDREN  AMT_INCOME_TOTAL  AMT_CREDIT  \\\n",
              "SK_ID_CURR                                                               \n",
              "361521                   Y             0          180000.0    590337.0   \n",
              "447253                   N             0          135000.0    417708.0   \n",
              "223657                   Y             1          117000.0    360000.0   \n",
              "418631                   Y             0          180000.0    679500.0   \n",
              "429713                   Y             2           49500.0     95940.0   \n",
              "\n",
              "            AMT_ANNUITY  AMT_GOODS_PRICE  ... FLAG_DOCUMENT_18  \\\n",
              "SK_ID_CURR                                ...                    \n",
              "361521          30312.0         477000.0  ...                0   \n",
              "447253          30523.5         369000.0  ...                0   \n",
              "223657          18000.0         360000.0  ...                0   \n",
              "418631          36333.0         679500.0  ...                0   \n",
              "429713          11515.5          90000.0  ...                0   \n",
              "\n",
              "           FLAG_DOCUMENT_19 FLAG_DOCUMENT_20 FLAG_DOCUMENT_21  \\\n",
              "SK_ID_CURR                                                      \n",
              "361521                    0                0                0   \n",
              "447253                    0                0                0   \n",
              "223657                    0                0                0   \n",
              "418631                    0                0                0   \n",
              "429713                    0                0                0   \n",
              "\n",
              "           AMT_REQ_CREDIT_BUREAU_HOUR  AMT_REQ_CREDIT_BUREAU_DAY  \\\n",
              "SK_ID_CURR                                                         \n",
              "361521                            0.0                        0.0   \n",
              "447253                            0.0                        0.0   \n",
              "223657                            0.0                        0.0   \n",
              "418631                            0.0                        0.0   \n",
              "429713                            NaN                        NaN   \n",
              "\n",
              "            AMT_REQ_CREDIT_BUREAU_WEEK  AMT_REQ_CREDIT_BUREAU_MON  \\\n",
              "SK_ID_CURR                                                          \n",
              "361521                             0.0                        0.0   \n",
              "447253                             0.0                        0.0   \n",
              "223657                             0.0                        0.0   \n",
              "418631                             0.0                        0.0   \n",
              "429713                             NaN                        NaN   \n",
              "\n",
              "            AMT_REQ_CREDIT_BUREAU_QRT  AMT_REQ_CREDIT_BUREAU_YEAR  \n",
              "SK_ID_CURR                                                         \n",
              "361521                            0.0                         6.0  \n",
              "447253                            0.0                         5.0  \n",
              "223657                            0.0                         0.0  \n",
              "418631                            0.0                         2.0  \n",
              "429713                            NaN                         NaN  \n",
              "\n",
              "[5 rows x 121 columns]"
            ],
            "text/html": [
              "\n",
              "  <div id=\"df-02764269-9f0a-41fd-aea7-207b4a4586bd\">\n",
              "    <div class=\"colab-df-container\">\n",
              "      <div>\n",
              "<style scoped>\n",
              "    .dataframe tbody tr th:only-of-type {\n",
              "        vertical-align: middle;\n",
              "    }\n",
              "\n",
              "    .dataframe tbody tr th {\n",
              "        vertical-align: top;\n",
              "    }\n",
              "\n",
              "    .dataframe thead th {\n",
              "        text-align: right;\n",
              "    }\n",
              "</style>\n",
              "<table border=\"1\" class=\"dataframe\">\n",
              "  <thead>\n",
              "    <tr style=\"text-align: right;\">\n",
              "      <th></th>\n",
              "      <th>TARGET</th>\n",
              "      <th>NAME_CONTRACT_TYPE</th>\n",
              "      <th>CODE_GENDER</th>\n",
              "      <th>FLAG_OWN_CAR</th>\n",
              "      <th>FLAG_OWN_REALTY</th>\n",
              "      <th>CNT_CHILDREN</th>\n",
              "      <th>AMT_INCOME_TOTAL</th>\n",
              "      <th>AMT_CREDIT</th>\n",
              "      <th>AMT_ANNUITY</th>\n",
              "      <th>AMT_GOODS_PRICE</th>\n",
              "      <th>...</th>\n",
              "      <th>FLAG_DOCUMENT_18</th>\n",
              "      <th>FLAG_DOCUMENT_19</th>\n",
              "      <th>FLAG_DOCUMENT_20</th>\n",
              "      <th>FLAG_DOCUMENT_21</th>\n",
              "      <th>AMT_REQ_CREDIT_BUREAU_HOUR</th>\n",
              "      <th>AMT_REQ_CREDIT_BUREAU_DAY</th>\n",
              "      <th>AMT_REQ_CREDIT_BUREAU_WEEK</th>\n",
              "      <th>AMT_REQ_CREDIT_BUREAU_MON</th>\n",
              "      <th>AMT_REQ_CREDIT_BUREAU_QRT</th>\n",
              "      <th>AMT_REQ_CREDIT_BUREAU_YEAR</th>\n",
              "    </tr>\n",
              "    <tr>\n",
              "      <th>SK_ID_CURR</th>\n",
              "      <th></th>\n",
              "      <th></th>\n",
              "      <th></th>\n",
              "      <th></th>\n",
              "      <th></th>\n",
              "      <th></th>\n",
              "      <th></th>\n",
              "      <th></th>\n",
              "      <th></th>\n",
              "      <th></th>\n",
              "      <th></th>\n",
              "      <th></th>\n",
              "      <th></th>\n",
              "      <th></th>\n",
              "      <th></th>\n",
              "      <th></th>\n",
              "      <th></th>\n",
              "      <th></th>\n",
              "      <th></th>\n",
              "      <th></th>\n",
              "      <th></th>\n",
              "    </tr>\n",
              "  </thead>\n",
              "  <tbody>\n",
              "    <tr>\n",
              "      <th>361521</th>\n",
              "      <td>0</td>\n",
              "      <td>Cash loans</td>\n",
              "      <td>M</td>\n",
              "      <td>Y</td>\n",
              "      <td>Y</td>\n",
              "      <td>0</td>\n",
              "      <td>180000.0</td>\n",
              "      <td>590337.0</td>\n",
              "      <td>30312.0</td>\n",
              "      <td>477000.0</td>\n",
              "      <td>...</td>\n",
              "      <td>0</td>\n",
              "      <td>0</td>\n",
              "      <td>0</td>\n",
              "      <td>0</td>\n",
              "      <td>0.0</td>\n",
              "      <td>0.0</td>\n",
              "      <td>0.0</td>\n",
              "      <td>0.0</td>\n",
              "      <td>0.0</td>\n",
              "      <td>6.0</td>\n",
              "    </tr>\n",
              "    <tr>\n",
              "      <th>447253</th>\n",
              "      <td>0</td>\n",
              "      <td>Cash loans</td>\n",
              "      <td>M</td>\n",
              "      <td>N</td>\n",
              "      <td>N</td>\n",
              "      <td>0</td>\n",
              "      <td>135000.0</td>\n",
              "      <td>417708.0</td>\n",
              "      <td>30523.5</td>\n",
              "      <td>369000.0</td>\n",
              "      <td>...</td>\n",
              "      <td>0</td>\n",
              "      <td>0</td>\n",
              "      <td>0</td>\n",
              "      <td>0</td>\n",
              "      <td>0.0</td>\n",
              "      <td>0.0</td>\n",
              "      <td>0.0</td>\n",
              "      <td>0.0</td>\n",
              "      <td>0.0</td>\n",
              "      <td>5.0</td>\n",
              "    </tr>\n",
              "    <tr>\n",
              "      <th>223657</th>\n",
              "      <td>0</td>\n",
              "      <td>Revolving loans</td>\n",
              "      <td>F</td>\n",
              "      <td>Y</td>\n",
              "      <td>Y</td>\n",
              "      <td>1</td>\n",
              "      <td>117000.0</td>\n",
              "      <td>360000.0</td>\n",
              "      <td>18000.0</td>\n",
              "      <td>360000.0</td>\n",
              "      <td>...</td>\n",
              "      <td>0</td>\n",
              "      <td>0</td>\n",
              "      <td>0</td>\n",
              "      <td>0</td>\n",
              "      <td>0.0</td>\n",
              "      <td>0.0</td>\n",
              "      <td>0.0</td>\n",
              "      <td>0.0</td>\n",
              "      <td>0.0</td>\n",
              "      <td>0.0</td>\n",
              "    </tr>\n",
              "    <tr>\n",
              "      <th>418631</th>\n",
              "      <td>0</td>\n",
              "      <td>Cash loans</td>\n",
              "      <td>F</td>\n",
              "      <td>N</td>\n",
              "      <td>Y</td>\n",
              "      <td>0</td>\n",
              "      <td>180000.0</td>\n",
              "      <td>679500.0</td>\n",
              "      <td>36333.0</td>\n",
              "      <td>679500.0</td>\n",
              "      <td>...</td>\n",
              "      <td>0</td>\n",
              "      <td>0</td>\n",
              "      <td>0</td>\n",
              "      <td>0</td>\n",
              "      <td>0.0</td>\n",
              "      <td>0.0</td>\n",
              "      <td>0.0</td>\n",
              "      <td>0.0</td>\n",
              "      <td>0.0</td>\n",
              "      <td>2.0</td>\n",
              "    </tr>\n",
              "    <tr>\n",
              "      <th>429713</th>\n",
              "      <td>0</td>\n",
              "      <td>Cash loans</td>\n",
              "      <td>M</td>\n",
              "      <td>N</td>\n",
              "      <td>Y</td>\n",
              "      <td>2</td>\n",
              "      <td>49500.0</td>\n",
              "      <td>95940.0</td>\n",
              "      <td>11515.5</td>\n",
              "      <td>90000.0</td>\n",
              "      <td>...</td>\n",
              "      <td>0</td>\n",
              "      <td>0</td>\n",
              "      <td>0</td>\n",
              "      <td>0</td>\n",
              "      <td>NaN</td>\n",
              "      <td>NaN</td>\n",
              "      <td>NaN</td>\n",
              "      <td>NaN</td>\n",
              "      <td>NaN</td>\n",
              "      <td>NaN</td>\n",
              "    </tr>\n",
              "  </tbody>\n",
              "</table>\n",
              "<p>5 rows × 121 columns</p>\n",
              "</div>\n",
              "      <button class=\"colab-df-convert\" onclick=\"convertToInteractive('df-02764269-9f0a-41fd-aea7-207b4a4586bd')\"\n",
              "              title=\"Convert this dataframe to an interactive table.\"\n",
              "              style=\"display:none;\">\n",
              "        \n",
              "  <svg xmlns=\"http://www.w3.org/2000/svg\" height=\"24px\"viewBox=\"0 0 24 24\"\n",
              "       width=\"24px\">\n",
              "    <path d=\"M0 0h24v24H0V0z\" fill=\"none\"/>\n",
              "    <path d=\"M18.56 5.44l.94 2.06.94-2.06 2.06-.94-2.06-.94-.94-2.06-.94 2.06-2.06.94zm-11 1L8.5 8.5l.94-2.06 2.06-.94-2.06-.94L8.5 2.5l-.94 2.06-2.06.94zm10 10l.94 2.06.94-2.06 2.06-.94-2.06-.94-.94-2.06-.94 2.06-2.06.94z\"/><path d=\"M17.41 7.96l-1.37-1.37c-.4-.4-.92-.59-1.43-.59-.52 0-1.04.2-1.43.59L10.3 9.45l-7.72 7.72c-.78.78-.78 2.05 0 2.83L4 21.41c.39.39.9.59 1.41.59.51 0 1.02-.2 1.41-.59l7.78-7.78 2.81-2.81c.8-.78.8-2.07 0-2.86zM5.41 20L4 18.59l7.72-7.72 1.47 1.35L5.41 20z\"/>\n",
              "  </svg>\n",
              "      </button>\n",
              "      \n",
              "  <style>\n",
              "    .colab-df-container {\n",
              "      display:flex;\n",
              "      flex-wrap:wrap;\n",
              "      gap: 12px;\n",
              "    }\n",
              "\n",
              "    .colab-df-convert {\n",
              "      background-color: #E8F0FE;\n",
              "      border: none;\n",
              "      border-radius: 50%;\n",
              "      cursor: pointer;\n",
              "      display: none;\n",
              "      fill: #1967D2;\n",
              "      height: 32px;\n",
              "      padding: 0 0 0 0;\n",
              "      width: 32px;\n",
              "    }\n",
              "\n",
              "    .colab-df-convert:hover {\n",
              "      background-color: #E2EBFA;\n",
              "      box-shadow: 0px 1px 2px rgba(60, 64, 67, 0.3), 0px 1px 3px 1px rgba(60, 64, 67, 0.15);\n",
              "      fill: #174EA6;\n",
              "    }\n",
              "\n",
              "    [theme=dark] .colab-df-convert {\n",
              "      background-color: #3B4455;\n",
              "      fill: #D2E3FC;\n",
              "    }\n",
              "\n",
              "    [theme=dark] .colab-df-convert:hover {\n",
              "      background-color: #434B5C;\n",
              "      box-shadow: 0px 1px 3px 1px rgba(0, 0, 0, 0.15);\n",
              "      filter: drop-shadow(0px 1px 2px rgba(0, 0, 0, 0.3));\n",
              "      fill: #FFFFFF;\n",
              "    }\n",
              "  </style>\n",
              "\n",
              "      <script>\n",
              "        const buttonEl =\n",
              "          document.querySelector('#df-02764269-9f0a-41fd-aea7-207b4a4586bd button.colab-df-convert');\n",
              "        buttonEl.style.display =\n",
              "          google.colab.kernel.accessAllowed ? 'block' : 'none';\n",
              "\n",
              "        async function convertToInteractive(key) {\n",
              "          const element = document.querySelector('#df-02764269-9f0a-41fd-aea7-207b4a4586bd');\n",
              "          const dataTable =\n",
              "            await google.colab.kernel.invokeFunction('convertToInteractive',\n",
              "                                                     [key], {});\n",
              "          if (!dataTable) return;\n",
              "\n",
              "          const docLinkHtml = 'Like what you see? Visit the ' +\n",
              "            '<a target=\"_blank\" href=https://colab.research.google.com/notebooks/data_table.ipynb>data table notebook</a>'\n",
              "            + ' to learn more about interactive tables.';\n",
              "          element.innerHTML = '';\n",
              "          dataTable['output_type'] = 'display_data';\n",
              "          await google.colab.output.renderOutput(dataTable, element);\n",
              "          const docLink = document.createElement('div');\n",
              "          docLink.innerHTML = docLinkHtml;\n",
              "          element.appendChild(docLink);\n",
              "        }\n",
              "      </script>\n",
              "    </div>\n",
              "  </div>\n",
              "  "
            ]
          },
          "metadata": {},
          "execution_count": 6
        }
      ]
    },
    {
      "cell_type": "markdown",
      "source": [
        "# DEFINE TARGET VARIABLE / LABELING"
      ],
      "metadata": {
        "id": "beJw1LG6nQbX"
      }
    },
    {
      "cell_type": "markdown",
      "source": [
        "Dalam project membuat prediksi skor kredit ini, tujuan utama adalah untuk melakukan prediksi terhadap suatu individu akan kemampuan mereka untuk dapat memastikan pelanggan yang mampu melakukan pelunasan tidak ditolak ketika melakukan pengajuan pinjaman, dan pinjaman datap diberikan dengan principal, maturity, dan repayment calendar yang akan memotivasi pelanggan untuk sukses. Oleh karena itu, variabel target yang digunakan harus mencerminkan kemampuan individu dalam hal tersebut. "
      ],
      "metadata": {
        "id": "ujUEGu8CnUgi"
      }
    },
    {
      "cell_type": "markdown",
      "source": [
        "Dalam dataset ini, variabel `TARGET` adalah variabel yang dapat dijadikan variabel target karena mencerminkan performa masing-masing individu dalam melakukan pelunasan tidak ditolak ketika melakukan pengajuan pinjaman."
      ],
      "metadata": {
        "id": "vOVUaWrcoDkg"
      }
    },
    {
      "cell_type": "code",
      "source": [
        "data_raw.TARGET.value_counts(normalize=True)*100"
      ],
      "metadata": {
        "colab": {
          "base_uri": "https://localhost:8080/"
        },
        "id": "V0CzLDPgnQ44",
        "outputId": "e227dfdc-73b8-473e-b09b-ad3c7d5dce3f"
      },
      "execution_count": 7,
      "outputs": [
        {
          "output_type": "execute_result",
          "data": {
            "text/plain": [
              "0    91.927118\n",
              "1     8.072882\n",
              "Name: TARGET, dtype: float64"
            ]
          },
          "metadata": {},
          "execution_count": 7
        }
      ]
    },
    {
      "cell_type": "markdown",
      "source": [
        "Dapat dilihat bahwa variabel `TARGET` memiliki dua nilai:"
      ],
      "metadata": {
        "id": "5OOGEefuoprI"
      }
    },
    {
      "cell_type": "markdown",
      "source": [
        "`1` - klien dengan kesulitan pembayaran: dia memiliki keterlambatan pembayaran lebih dari X hari pada setidaknya satu angsuran Y pertama dari pinjaman dalam sampel kami; `0` - semua kasus lainnya"
      ],
      "metadata": {
        "id": "j0--9pCEoxJK"
      }
    },
    {
      "cell_type": "markdown",
      "source": [
        "# CLEANING, PREPROCESSING, FEATURE ENGINEERING"
      ],
      "metadata": {
        "id": "DD3_xb1Zpy46"
      }
    },
    {
      "cell_type": "markdown",
      "source": [
        "Pada step ini, dilakukan pembersihan/modifikasi beberapa fitur ke dalam format yang dapat digunakan untuk modeling."
      ],
      "metadata": {
        "id": "haSAlAorp3qH"
      }
    },
    {
      "cell_type": "markdown",
      "source": [
        "# EXPLORATORY DATA ANALYSIS"
      ],
      "metadata": {
        "id": "zfV9wHJerKBB"
      }
    },
    {
      "cell_type": "markdown",
      "source": [
        "### Correlation Check"
      ],
      "metadata": {
        "id": "bSqK2nb0rN6B"
      }
    },
    {
      "cell_type": "code",
      "source": [
        "plt.figure(figsize=(20,20))\n",
        "sns.heatmap(data_raw.corr())"
      ],
      "metadata": {
        "colab": {
          "base_uri": "https://localhost:8080/",
          "height": 1000
        },
        "id": "rTvPZyefrLKU",
        "outputId": "bc402906-ed29-4464-a788-a3ec9bd5ea74"
      },
      "execution_count": 8,
      "outputs": [
        {
          "output_type": "execute_result",
          "data": {
            "text/plain": [
              "<matplotlib.axes._subplots.AxesSubplot at 0x7f0f0b7f8f90>"
            ]
          },
          "metadata": {},
          "execution_count": 8
        },
        {
          "output_type": "display_data",
          "data": {
            "text/plain": [
              "<Figure size 1440x1440 with 2 Axes>"
            ],
            "image/png": "[encoded data removed]"
          },
          "metadata": {}
        }
      ]
    },
    {
      "cell_type": "markdown",
      "source": [
        "Di sini, jika ada pasangan fitur-fitur yang memiliki korelasi tinggi maka akan diambil salah satu saja. Nilai korelasi yang dijadikan patokan sebagai korelasi tinggi tidak pasti, umumnya digunakan angka 0.7."
      ],
      "metadata": {
        "id": "9_HAQgMGrsmv"
      }
    },
    {
      "cell_type": "code",
      "source": [
        "\n",
        "corr_matrix = data_raw.corr().abs()\n",
        "upper = corr_matrix.where(np.triu(np.ones(corr_matrix.shape), k=1).astype(np.bool))\n",
        "to_drop_hicorr = [column for column in upper.columns if any(upper[column] > 0.7)]"
      ],
      "metadata": {
        "id": "ivsInkZbrxB1"
      },
      "execution_count": 9,
      "outputs": []
    },
    {
      "cell_type": "code",
      "source": [
        "to_drop_hicorr"
      ],
      "metadata": {
        "colab": {
          "base_uri": "https://localhost:8080/"
        },
        "id": "lxHDNBBYsIep",
        "outputId": "e7c2f835-3ed9-40fd-a769-a62240a95480"
      },
      "execution_count": 10,
      "outputs": [
        {
          "output_type": "execute_result",
          "data": {
            "text/plain": [
              "['AMT_ANNUITY',\n",
              " 'AMT_GOODS_PRICE',\n",
              " 'FLAG_EMP_PHONE',\n",
              " 'CNT_FAM_MEMBERS',\n",
              " 'REGION_RATING_CLIENT_W_CITY',\n",
              " 'LIVE_REGION_NOT_WORK_REGION',\n",
              " 'LIVE_CITY_NOT_WORK_CITY',\n",
              " 'ELEVATORS_AVG',\n",
              " 'FLOORSMIN_AVG',\n",
              " 'LIVINGAPARTMENTS_AVG',\n",
              " 'LIVINGAREA_AVG',\n",
              " 'APARTMENTS_MODE',\n",
              " 'BASEMENTAREA_MODE',\n",
              " 'YEARS_BEGINEXPLUATATION_MODE',\n",
              " 'YEARS_BUILD_MODE',\n",
              " 'COMMONAREA_MODE',\n",
              " 'ELEVATORS_MODE',\n",
              " 'ENTRANCES_MODE',\n",
              " 'FLOORSMAX_MODE',\n",
              " 'FLOORSMIN_MODE',\n",
              " 'LANDAREA_MODE',\n",
              " 'LIVINGAPARTMENTS_MODE',\n",
              " 'LIVINGAREA_MODE',\n",
              " 'NONLIVINGAPARTMENTS_MODE',\n",
              " 'NONLIVINGAREA_MODE',\n",
              " 'APARTMENTS_MEDI',\n",
              " 'BASEMENTAREA_MEDI',\n",
              " 'YEARS_BEGINEXPLUATATION_MEDI',\n",
              " 'YEARS_BUILD_MEDI',\n",
              " 'COMMONAREA_MEDI',\n",
              " 'ELEVATORS_MEDI',\n",
              " 'ENTRANCES_MEDI',\n",
              " 'FLOORSMAX_MEDI',\n",
              " 'FLOORSMIN_MEDI',\n",
              " 'LANDAREA_MEDI',\n",
              " 'LIVINGAPARTMENTS_MEDI',\n",
              " 'LIVINGAREA_MEDI',\n",
              " 'NONLIVINGAPARTMENTS_MEDI',\n",
              " 'NONLIVINGAREA_MEDI',\n",
              " 'TOTALAREA_MODE',\n",
              " 'OBS_60_CNT_SOCIAL_CIRCLE',\n",
              " 'DEF_60_CNT_SOCIAL_CIRCLE']"
            ]
          },
          "metadata": {},
          "execution_count": 10
        }
      ]
    },
    {
      "cell_type": "code",
      "source": [
        "data_raw.drop(to_drop_hicorr, axis=1, inplace=True)"
      ],
      "metadata": {
        "id": "4ixqUT6WsUL9"
      },
      "execution_count": 11,
      "outputs": []
    },
    {
      "cell_type": "markdown",
      "source": [
        "### Check Categorical Features"
      ],
      "metadata": {
        "id": "LPIWia6hso3B"
      }
    },
    {
      "cell_type": "code",
      "source": [
        "data_raw.select_dtypes(include='object').nunique()"
      ],
      "metadata": {
        "colab": {
          "base_uri": "https://localhost:8080/"
        },
        "id": "e7tJFVyQszMp",
        "outputId": "52d05568-141e-4e7b-9817-3b1c990b2905"
      },
      "execution_count": 12,
      "outputs": [
        {
          "output_type": "execute_result",
          "data": {
            "text/plain": [
              "NAME_CONTRACT_TYPE             2\n",
              "CODE_GENDER                    3\n",
              "FLAG_OWN_CAR                   2\n",
              "FLAG_OWN_REALTY                2\n",
              "NAME_TYPE_SUITE                7\n",
              "NAME_INCOME_TYPE               8\n",
              "NAME_EDUCATION_TYPE            5\n",
              "NAME_FAMILY_STATUS             6\n",
              "NAME_HOUSING_TYPE              6\n",
              "OCCUPATION_TYPE               18\n",
              "WEEKDAY_APPR_PROCESS_START     7\n",
              "ORGANIZATION_TYPE             58\n",
              "FONDKAPREMONT_MODE             4\n",
              "HOUSETYPE_MODE                 3\n",
              "WALLSMATERIAL_MODE             7\n",
              "EMERGENCYSTATE_MODE            2\n",
              "dtype: int64"
            ]
          },
          "metadata": {},
          "execution_count": 12
        }
      ]
    },
    {
      "cell_type": "markdown",
      "source": [
        "Pada tahap ini dilakukan pembuangan fitur yang memiliki nilai unik yang sangat tinggi (high cardinality) dan fitur yang hanya memiliki satu nilai unik saja."
      ],
      "metadata": {
        "id": "4eeKUYprs65n"
      }
    },
    {
      "cell_type": "code",
      "source": [
        "data_raw.drop(['OCCUPATION_TYPE', 'ORGANIZATION_TYPE'], axis=1, inplace=True)"
      ],
      "metadata": {
        "id": "244ypyHDtFgV"
      },
      "execution_count": 13,
      "outputs": []
    },
    {
      "cell_type": "code",
      "source": [
        "data_raw.select_dtypes(exclude='object').nunique()"
      ],
      "metadata": {
        "colab": {
          "base_uri": "https://localhost:8080/"
        },
        "id": "R-GwnNJtt6AZ",
        "outputId": "450daba7-6b85-4b37-9f6b-aa1edb4ff5e8"
      },
      "execution_count": 14,
      "outputs": [
        {
          "output_type": "execute_result",
          "data": {
            "text/plain": [
              "TARGET                           2\n",
              "CNT_CHILDREN                    15\n",
              "AMT_INCOME_TOTAL              2548\n",
              "AMT_CREDIT                    5603\n",
              "REGION_POPULATION_RELATIVE      81\n",
              "                              ... \n",
              "AMT_REQ_CREDIT_BUREAU_DAY        9\n",
              "AMT_REQ_CREDIT_BUREAU_WEEK       9\n",
              "AMT_REQ_CREDIT_BUREAU_MON       24\n",
              "AMT_REQ_CREDIT_BUREAU_QRT       11\n",
              "AMT_REQ_CREDIT_BUREAU_YEAR      25\n",
              "Length: 63, dtype: int64"
            ]
          },
          "metadata": {},
          "execution_count": 14
        }
      ]
    },
    {
      "cell_type": "code",
      "source": [
        "for col in data_raw.select_dtypes(include='object').columns.tolist():\n",
        "    print(data_raw[col].value_counts(normalize=True)*100)\n",
        "    print('\\n')"
      ],
      "metadata": {
        "colab": {
          "base_uri": "https://localhost:8080/"
        },
        "id": "J2-bB2JjuK57",
        "outputId": "c179dff9-de47-49d8-9590-30f9d0305627"
      },
      "execution_count": 15,
      "outputs": [
        {
          "output_type": "stream",
          "name": "stdout",
          "text": [
            "Cash loans         90.478715\n",
            "Revolving loans     9.521285\n",
            "Name: NAME_CONTRACT_TYPE, dtype: float64\n",
            "\n",
            "\n",
            "F      65.834393\n",
            "M      34.164306\n",
            "XNA     0.001301\n",
            "Name: CODE_GENDER, dtype: float64\n",
            "\n",
            "\n",
            "N    65.989184\n",
            "Y    34.010816\n",
            "Name: FLAG_OWN_CAR, dtype: float64\n",
            "\n",
            "\n",
            "Y    69.367275\n",
            "N    30.632725\n",
            "Name: FLAG_OWN_REALTY, dtype: float64\n",
            "\n",
            "\n",
            "Unaccompanied      81.159562\n",
            "Family             13.111205\n",
            "Spouse, partner     3.713029\n",
            "Children            1.066884\n",
            "Other_B             0.578018\n",
            "Other_A             0.282804\n",
            "Group of people     0.088499\n",
            "Name: NAME_TYPE_SUITE, dtype: float64\n",
            "\n",
            "\n",
            "Working                 51.631974\n",
            "Commercial associate    23.289248\n",
            "Pensioner               18.003258\n",
            "State servant            7.057634\n",
            "Unemployed               0.007154\n",
            "Student                  0.005853\n",
            "Businessman              0.003252\n",
            "Maternity leave          0.001626\n",
            "Name: NAME_INCOME_TYPE, dtype: float64\n",
            "\n",
            "\n",
            "Secondary / secondary special    71.018923\n",
            "Higher education                 24.344820\n",
            "Incomplete higher                 3.341994\n",
            "Lower secondary                   1.240931\n",
            "Academic degree                   0.053331\n",
            "Name: NAME_EDUCATION_TYPE, dtype: float64\n",
            "\n",
            "\n",
            "Married                 63.878040\n",
            "Single / not married    14.778008\n",
            "Civil marriage           9.682580\n",
            "Separated                6.429038\n",
            "Widow                    5.231683\n",
            "Unknown                  0.000650\n",
            "Name: NAME_FAMILY_STATUS, dtype: float64\n",
            "\n",
            "\n",
            "House / apartment      88.734387\n",
            "With parents            4.825844\n",
            "Municipal apartment     3.636618\n",
            "Rented apartment        1.587260\n",
            "Office apartment        0.851026\n",
            "Co-op apartment         0.364865\n",
            "Name: NAME_HOUSING_TYPE, dtype: float64\n",
            "\n",
            "\n",
            "TUESDAY      17.528153\n",
            "WEDNESDAY    16.888502\n",
            "MONDAY       16.491768\n",
            "THURSDAY     16.451769\n",
            "FRIDAY       16.369496\n",
            "SATURDAY     11.008387\n",
            "SUNDAY        5.261926\n",
            "Name: WEEKDAY_APPR_PROCESS_START, dtype: float64\n",
            "\n",
            "\n",
            "reg oper account         75.944289\n",
            "reg oper spec account    12.425938\n",
            "not specified             5.849860\n",
            "org spec account          5.779913\n",
            "Name: FONDKAPREMONT_MODE, dtype: float64\n",
            "\n",
            "\n",
            "block of flats      98.230579\n",
            "specific housing     0.978370\n",
            "terraced house       0.791050\n",
            "Name: HOUSETYPE_MODE, dtype: float64\n",
            "\n",
            "\n",
            "Panel           43.685917\n",
            "Stone, brick    42.875571\n",
            "Block            6.120923\n",
            "Wooden           3.547000\n",
            "Mixed            1.518820\n",
            "Monolithic       1.176821\n",
            "Others           1.074949\n",
            "Name: WALLSMATERIAL_MODE, dtype: float64\n",
            "\n",
            "\n",
            "No     98.560795\n",
            "Yes     1.439205\n",
            "Name: EMERGENCYSTATE_MODE, dtype: float64\n",
            "\n",
            "\n"
          ]
        }
      ]
    },
    {
      "cell_type": "markdown",
      "source": [
        "Karena tidak terdapat fitur yang sangat didominasi oleh salah satu nilai saja maka tidak ada fitur yang dibuang."
      ],
      "metadata": {
        "id": "hYgiM_yXuhZS"
      }
    },
    {
      "cell_type": "markdown",
      "source": [
        "# MISSING VALUES"
      ],
      "metadata": {
        "id": "38A-Hs26ulu1"
      }
    },
    {
      "cell_type": "markdown",
      "source": [
        "### Missing Value Checking"
      ],
      "metadata": {
        "id": "PLN1F-YJuon5"
      }
    },
    {
      "cell_type": "code",
      "source": [
        "check_missing = data_raw.isnull().sum() * 100 / data_raw.shape[0]\n",
        "check_missing[check_missing > 0].sort_values(ascending=False)"
      ],
      "metadata": {
        "colab": {
          "base_uri": "https://localhost:8080/"
        },
        "id": "rMKFv8qjupYK",
        "outputId": "cc2edda6-cb33-466a-b465-9dee82b57d1c"
      },
      "execution_count": 16,
      "outputs": [
        {
          "output_type": "execute_result",
          "data": {
            "text/plain": [
              "COMMONAREA_AVG                 69.872297\n",
              "NONLIVINGAPARTMENTS_AVG        69.432963\n",
              "FONDKAPREMONT_MODE             68.386172\n",
              "YEARS_BUILD_AVG                66.497784\n",
              "OWN_CAR_AGE                    65.990810\n",
              "LANDAREA_AVG                   59.376738\n",
              "BASEMENTAREA_AVG               58.515956\n",
              "EXT_SOURCE_1                   56.381073\n",
              "NONLIVINGAREA_AVG              55.179164\n",
              "WALLSMATERIAL_MODE             50.840783\n",
              "APARTMENTS_AVG                 50.749729\n",
              "ENTRANCES_AVG                  50.348768\n",
              "HOUSETYPE_MODE                 50.176091\n",
              "FLOORSMAX_AVG                  49.760822\n",
              "YEARS_BEGINEXPLUATATION_AVG    48.781019\n",
              "EMERGENCYSTATE_MODE            47.398304\n",
              "EXT_SOURCE_3                   19.825307\n",
              "AMT_REQ_CREDIT_BUREAU_HOUR     13.501631\n",
              "AMT_REQ_CREDIT_BUREAU_QRT      13.501631\n",
              "AMT_REQ_CREDIT_BUREAU_MON      13.501631\n",
              "AMT_REQ_CREDIT_BUREAU_WEEK     13.501631\n",
              "AMT_REQ_CREDIT_BUREAU_DAY      13.501631\n",
              "AMT_REQ_CREDIT_BUREAU_YEAR     13.501631\n",
              "NAME_TYPE_SUITE                 0.420148\n",
              "DEF_30_CNT_SOCIAL_CIRCLE        0.332021\n",
              "OBS_30_CNT_SOCIAL_CIRCLE        0.332021\n",
              "EXT_SOURCE_2                    0.214626\n",
              "DAYS_LAST_PHONE_CHANGE          0.000325\n",
              "dtype: float64"
            ]
          },
          "metadata": {},
          "execution_count": 16
        }
      ]
    },
    {
      "cell_type": "markdown",
      "source": [
        "Karena semua kolomnya memiliki missing values di bawah 75% maka tidak ada yang dibuang."
      ],
      "metadata": {
        "id": "kKJ7yd0du1Gj"
      }
    },
    {
      "cell_type": "markdown",
      "source": [
        "### Missing Values Filling"
      ],
      "metadata": {
        "id": "-1hkzMA-vJ2V"
      }
    },
    {
      "cell_type": "code",
      "source": [
        "data_raw['COMMONAREA_AVG'].fillna(0, inplace=True)\n",
        "data_raw['NONLIVINGAPARTMENTS_AVG'].fillna(0, inplace=True)\n",
        "data_raw['FONDKAPREMONT_MODE'].fillna('not specified', inplace=True)\n",
        "data_raw['YEARS_BUILD_AVG'].fillna(0, inplace=True)\n",
        "data_raw['OWN_CAR_AGE'].fillna(0, inplace=True)\n",
        "data_raw['LANDAREA_AVG'].fillna(0, inplace=True)\n",
        "data_raw['BASEMENTAREA_AVG'].fillna(0, inplace=True)\n",
        "data_raw['EXT_SOURCE_1'].fillna(0, inplace=True)\n",
        "data_raw['NONLIVINGAREA_AVG'].fillna(0, inplace=True)\n",
        "data_raw['WALLSMATERIAL_MODE'].fillna('Others', inplace=True)\n",
        "data_raw['APARTMENTS_AVG'].fillna(0, inplace=True)\n",
        "data_raw['ENTRANCES_AVG'].fillna(0, inplace=True)\n",
        "data_raw['HOUSETYPE_MODE'].fillna('not specified', inplace=True)\n",
        "data_raw['FLOORSMAX_AVG'].fillna(0, inplace=True)\n",
        "data_raw['YEARS_BEGINEXPLUATATION_AVG'].fillna(0, inplace=True)\n",
        "data_raw['EMERGENCYSTATE_MODE'].fillna('No', inplace=True)\n",
        "data_raw['EXT_SOURCE_3'].fillna(0, inplace=True)\n",
        "data_raw['AMT_REQ_CREDIT_BUREAU_HOUR'].fillna(0, inplace=True)\n",
        "data_raw['AMT_REQ_CREDIT_BUREAU_QRT'].fillna(0, inplace=True)\n",
        "data_raw['AMT_REQ_CREDIT_BUREAU_MON'].fillna(0, inplace=True)\n",
        "data_raw['AMT_REQ_CREDIT_BUREAU_WEEK'].fillna(0, inplace=True)\n",
        "data_raw['AMT_REQ_CREDIT_BUREAU_DAY'].fillna(0, inplace=True)\n",
        "data_raw['AMT_REQ_CREDIT_BUREAU_YEAR'].fillna(0, inplace=True)\n",
        "data_raw['NAME_TYPE_SUITE'].fillna('Unaccompanied', inplace=True)\n",
        "data_raw['DEF_30_CNT_SOCIAL_CIRCLE'].fillna(0, inplace=True)\n",
        "data_raw['OBS_30_CNT_SOCIAL_CIRCLE'].fillna(0, inplace=True)\n",
        "data_raw['EXT_SOURCE_2'].fillna(0, inplace=True)\n",
        "data_raw['DAYS_LAST_PHONE_CHANGE'].fillna(0, inplace=True)"
      ],
      "metadata": {
        "id": "3hDDkYiLvNlF"
      },
      "execution_count": 17,
      "outputs": []
    },
    {
      "cell_type": "code",
      "source": [
        "data_raw.info()"
      ],
      "metadata": {
        "colab": {
          "base_uri": "https://localhost:8080/"
        },
        "id": "GPE5Pu4B9eIj",
        "outputId": "cc41496a-9326-4c6b-c4be-14339412d29d"
      },
      "execution_count": 18,
      "outputs": [
        {
          "output_type": "stream",
          "name": "stdout",
          "text": [
            "<class 'pandas.core.frame.DataFrame'>\n",
            "Int64Index: 307511 entries, 100002 to 456255\n",
            "Data columns (total 77 columns):\n",
            " #   Column                       Non-Null Count   Dtype  \n",
            "---  ------                       --------------   -----  \n",
            " 0   TARGET                       307511 non-null  int64  \n",
            " 1   NAME_CONTRACT_TYPE           307511 non-null  object \n",
            " 2   CODE_GENDER                  307511 non-null  object \n",
            " 3   FLAG_OWN_CAR                 307511 non-null  object \n",
            " 4   FLAG_OWN_REALTY              307511 non-null  object \n",
            " 5   CNT_CHILDREN                 307511 non-null  int64  \n",
            " 6   AMT_INCOME_TOTAL             307511 non-null  float64\n",
            " 7   AMT_CREDIT                   307511 non-null  float64\n",
            " 8   NAME_TYPE_SUITE              307511 non-null  object \n",
            " 9   NAME_INCOME_TYPE             307511 non-null  object \n",
            " 10  NAME_EDUCATION_TYPE          307511 non-null  object \n",
            " 11  NAME_FAMILY_STATUS           307511 non-null  object \n",
            " 12  NAME_HOUSING_TYPE            307511 non-null  object \n",
            " 13  REGION_POPULATION_RELATIVE   307511 non-null  float64\n",
            " 14  DAYS_BIRTH                   307511 non-null  int64  \n",
            " 15  DAYS_EMPLOYED                307511 non-null  int64  \n",
            " 16  DAYS_REGISTRATION            307511 non-null  float64\n",
            " 17  DAYS_ID_PUBLISH              307511 non-null  int64  \n",
            " 18  OWN_CAR_AGE                  307511 non-null  float64\n",
            " 19  FLAG_MOBIL                   307511 non-null  int64  \n",
            " 20  FLAG_WORK_PHONE              307511 non-null  int64  \n",
            " 21  FLAG_CONT_MOBILE             307511 non-null  int64  \n",
            " 22  FLAG_PHONE                   307511 non-null  int64  \n",
            " 23  FLAG_EMAIL                   307511 non-null  int64  \n",
            " 24  REGION_RATING_CLIENT         307511 non-null  int64  \n",
            " 25  WEEKDAY_APPR_PROCESS_START   307511 non-null  object \n",
            " 26  HOUR_APPR_PROCESS_START      307511 non-null  int64  \n",
            " 27  REG_REGION_NOT_LIVE_REGION   307511 non-null  int64  \n",
            " 28  REG_REGION_NOT_WORK_REGION   307511 non-null  int64  \n",
            " 29  REG_CITY_NOT_LIVE_CITY       307511 non-null  int64  \n",
            " 30  REG_CITY_NOT_WORK_CITY       307511 non-null  int64  \n",
            " 31  EXT_SOURCE_1                 307511 non-null  float64\n",
            " 32  EXT_SOURCE_2                 307511 non-null  float64\n",
            " 33  EXT_SOURCE_3                 307511 non-null  float64\n",
            " 34  APARTMENTS_AVG               307511 non-null  float64\n",
            " 35  BASEMENTAREA_AVG             307511 non-null  float64\n",
            " 36  YEARS_BEGINEXPLUATATION_AVG  307511 non-null  float64\n",
            " 37  YEARS_BUILD_AVG              307511 non-null  float64\n",
            " 38  COMMONAREA_AVG               307511 non-null  float64\n",
            " 39  ENTRANCES_AVG                307511 non-null  float64\n",
            " 40  FLOORSMAX_AVG                307511 non-null  float64\n",
            " 41  LANDAREA_AVG                 307511 non-null  float64\n",
            " 42  NONLIVINGAPARTMENTS_AVG      307511 non-null  float64\n",
            " 43  NONLIVINGAREA_AVG            307511 non-null  float64\n",
            " 44  FONDKAPREMONT_MODE           307511 non-null  object \n",
            " 45  HOUSETYPE_MODE               307511 non-null  object \n",
            " 46  WALLSMATERIAL_MODE           307511 non-null  object \n",
            " 47  EMERGENCYSTATE_MODE          307511 non-null  object \n",
            " 48  OBS_30_CNT_SOCIAL_CIRCLE     307511 non-null  float64\n",
            " 49  DEF_30_CNT_SOCIAL_CIRCLE     307511 non-null  float64\n",
            " 50  DAYS_LAST_PHONE_CHANGE       307511 non-null  float64\n",
            " 51  FLAG_DOCUMENT_2              307511 non-null  int64  \n",
            " 52  FLAG_DOCUMENT_3              307511 non-null  int64  \n",
            " 53  FLAG_DOCUMENT_4              307511 non-null  int64  \n",
            " 54  FLAG_DOCUMENT_5              307511 non-null  int64  \n",
            " 55  FLAG_DOCUMENT_6              307511 non-null  int64  \n",
            " 56  FLAG_DOCUMENT_7              307511 non-null  int64  \n",
            " 57  FLAG_DOCUMENT_8              307511 non-null  int64  \n",
            " 58  FLAG_DOCUMENT_9              307511 non-null  int64  \n",
            " 59  FLAG_DOCUMENT_10             307511 non-null  int64  \n",
            " 60  FLAG_DOCUMENT_11             307511 non-null  int64  \n",
            " 61  FLAG_DOCUMENT_12             307511 non-null  int64  \n",
            " 62  FLAG_DOCUMENT_13             307511 non-null  int64  \n",
            " 63  FLAG_DOCUMENT_14             307511 non-null  int64  \n",
            " 64  FLAG_DOCUMENT_15             307511 non-null  int64  \n",
            " 65  FLAG_DOCUMENT_16             307511 non-null  int64  \n",
            " 66  FLAG_DOCUMENT_17             307511 non-null  int64  \n",
            " 67  FLAG_DOCUMENT_18             307511 non-null  int64  \n",
            " 68  FLAG_DOCUMENT_19             307511 non-null  int64  \n",
            " 69  FLAG_DOCUMENT_20             307511 non-null  int64  \n",
            " 70  FLAG_DOCUMENT_21             307511 non-null  int64  \n",
            " 71  AMT_REQ_CREDIT_BUREAU_HOUR   307511 non-null  float64\n",
            " 72  AMT_REQ_CREDIT_BUREAU_DAY    307511 non-null  float64\n",
            " 73  AMT_REQ_CREDIT_BUREAU_WEEK   307511 non-null  float64\n",
            " 74  AMT_REQ_CREDIT_BUREAU_MON    307511 non-null  float64\n",
            " 75  AMT_REQ_CREDIT_BUREAU_QRT    307511 non-null  float64\n",
            " 76  AMT_REQ_CREDIT_BUREAU_YEAR   307511 non-null  float64\n",
            "dtypes: float64(27), int64(36), object(14)\n",
            "memory usage: 183.0+ MB\n"
          ]
        }
      ]
    },
    {
      "cell_type": "code",
      "source": [
        "check_missing = data_raw.isnull().sum() * 100 / data_raw.shape[0]\n",
        "check_missing[check_missing > 0].sort_values(ascending=False)"
      ],
      "metadata": {
        "colab": {
          "base_uri": "https://localhost:8080/"
        },
        "id": "1IFNKSdtGrI1",
        "outputId": "a6e53a73-572b-4b69-bc40-e604733e4844"
      },
      "execution_count": 19,
      "outputs": [
        {
          "output_type": "execute_result",
          "data": {
            "text/plain": [
              "Series([], dtype: float64)"
            ]
          },
          "metadata": {},
          "execution_count": 19
        }
      ]
    },
    {
      "cell_type": "markdown",
      "source": [
        "# FEATURE SCALING AND TRANSFORMATION"
      ],
      "metadata": {
        "id": "8e8Nabcc1yCW"
      }
    },
    {
      "cell_type": "markdown",
      "source": [
        "### One Hot Encoding"
      ],
      "metadata": {
        "id": "0nFEx1PM2C0e"
      }
    },
    {
      "cell_type": "markdown",
      "source": [
        "Semua kolom kategorikal dilakukan One Hot Encoding.\n",
        "\n",
        "---\n",
        "\n",
        "\n",
        "\n",
        "---"
      ],
      "metadata": {
        "id": "NBJwSb5i2GvH"
      }
    },
    {
      "cell_type": "code",
      "source": [
        "categorical_cols = [col for col in data_raw.select_dtypes(include='object').columns.tolist()]"
      ],
      "metadata": {
        "id": "zlJhLOLk2Cgr"
      },
      "execution_count": 20,
      "outputs": []
    },
    {
      "cell_type": "code",
      "source": [
        "categorical_cols"
      ],
      "metadata": {
        "colab": {
          "base_uri": "https://localhost:8080/"
        },
        "id": "RHgGr37JBIdo",
        "outputId": "a1c8f570-25b2-4d3f-990f-6347b339ab85"
      },
      "execution_count": 21,
      "outputs": [
        {
          "output_type": "execute_result",
          "data": {
            "text/plain": [
              "['NAME_CONTRACT_TYPE',\n",
              " 'CODE_GENDER',\n",
              " 'FLAG_OWN_CAR',\n",
              " 'FLAG_OWN_REALTY',\n",
              " 'NAME_TYPE_SUITE',\n",
              " 'NAME_INCOME_TYPE',\n",
              " 'NAME_EDUCATION_TYPE',\n",
              " 'NAME_FAMILY_STATUS',\n",
              " 'NAME_HOUSING_TYPE',\n",
              " 'WEEKDAY_APPR_PROCESS_START',\n",
              " 'FONDKAPREMONT_MODE',\n",
              " 'HOUSETYPE_MODE',\n",
              " 'WALLSMATERIAL_MODE',\n",
              " 'EMERGENCYSTATE_MODE']"
            ]
          },
          "metadata": {},
          "execution_count": 21
        }
      ]
    },
    {
      "cell_type": "code",
      "source": [
        "from sklearn import preprocessing\n",
        "\n",
        "label_encoder = preprocessing.LabelEncoder()"
      ],
      "metadata": {
        "id": "MVZ34Fw-B86U"
      },
      "execution_count": 22,
      "outputs": []
    },
    {
      "cell_type": "code",
      "source": [
        "encod = pd.DataFrame(data_raw['TARGET'])\n",
        "\n",
        "for i in categorical_cols:\n",
        "  encod[i] = label_encoder.fit_transform(data_raw[i])\n",
        "\n",
        "encod.head()"
      ],
      "metadata": {
        "colab": {
          "base_uri": "https://localhost:8080/",
          "height": 301
        },
        "id": "aAT0NFzEBh3S",
        "outputId": "7febd054-adba-4bfc-dfc9-678a29cdbd83"
      },
      "execution_count": 23,
      "outputs": [
        {
          "output_type": "execute_result",
          "data": {
            "text/plain": [
              "            TARGET  NAME_CONTRACT_TYPE  CODE_GENDER  FLAG_OWN_CAR  \\\n",
              "SK_ID_CURR                                                          \n",
              "100002           1                   0            1             0   \n",
              "100003           0                   0            0             0   \n",
              "100004           0                   1            1             1   \n",
              "100006           0                   0            0             0   \n",
              "100007           0                   0            1             0   \n",
              "\n",
              "            FLAG_OWN_REALTY  NAME_TYPE_SUITE  NAME_INCOME_TYPE  \\\n",
              "SK_ID_CURR                                                       \n",
              "100002                    1                6                 7   \n",
              "100003                    0                1                 4   \n",
              "100004                    1                6                 7   \n",
              "100006                    1                6                 7   \n",
              "100007                    1                6                 7   \n",
              "\n",
              "            NAME_EDUCATION_TYPE  NAME_FAMILY_STATUS  NAME_HOUSING_TYPE  \\\n",
              "SK_ID_CURR                                                               \n",
              "100002                        4                   3                  1   \n",
              "100003                        1                   1                  1   \n",
              "100004                        4                   3                  1   \n",
              "100006                        4                   0                  1   \n",
              "100007                        4                   3                  1   \n",
              "\n",
              "            WEEKDAY_APPR_PROCESS_START  FONDKAPREMONT_MODE  HOUSETYPE_MODE  \\\n",
              "SK_ID_CURR                                                                   \n",
              "100002                               6                   2               0   \n",
              "100003                               1                   2               0   \n",
              "100004                               1                   0               1   \n",
              "100006                               6                   0               1   \n",
              "100007                               4                   0               1   \n",
              "\n",
              "            WALLSMATERIAL_MODE  EMERGENCYSTATE_MODE  \n",
              "SK_ID_CURR                                           \n",
              "100002                       5                    0  \n",
              "100003                       0                    0  \n",
              "100004                       3                    0  \n",
              "100006                       3                    0  \n",
              "100007                       3                    0  "
            ],
            "text/html": [
              "\n",
              "  <div id=\"df-0c48b58f-bef6-40a1-8697-5eae831b43b1\">\n",
              "    <div class=\"colab-df-container\">\n",
              "      <div>\n",
              "<style scoped>\n",
              "    .dataframe tbody tr th:only-of-type {\n",
              "        vertical-align: middle;\n",
              "    }\n",
              "\n",
              "    .dataframe tbody tr th {\n",
              "        vertical-align: top;\n",
              "    }\n",
              "\n",
              "    .dataframe thead th {\n",
              "        text-align: right;\n",
              "    }\n",
              "</style>\n",
              "<table border=\"1\" class=\"dataframe\">\n",
              "  <thead>\n",
              "    <tr style=\"text-align: right;\">\n",
              "      <th></th>\n",
              "      <th>TARGET</th>\n",
              "      <th>NAME_CONTRACT_TYPE</th>\n",
              "      <th>CODE_GENDER</th>\n",
              "      <th>FLAG_OWN_CAR</th>\n",
              "      <th>FLAG_OWN_REALTY</th>\n",
              "      <th>NAME_TYPE_SUITE</th>\n",
              "      <th>NAME_INCOME_TYPE</th>\n",
              "      <th>NAME_EDUCATION_TYPE</th>\n",
              "      <th>NAME_FAMILY_STATUS</th>\n",
              "      <th>NAME_HOUSING_TYPE</th>\n",
              "      <th>WEEKDAY_APPR_PROCESS_START</th>\n",
              "      <th>FONDKAPREMONT_MODE</th>\n",
              "      <th>HOUSETYPE_MODE</th>\n",
              "      <th>WALLSMATERIAL_MODE</th>\n",
              "      <th>EMERGENCYSTATE_MODE</th>\n",
              "    </tr>\n",
              "    <tr>\n",
              "      <th>SK_ID_CURR</th>\n",
              "      <th></th>\n",
              "      <th></th>\n",
              "      <th></th>\n",
              "      <th></th>\n",
              "      <th></th>\n",
              "      <th></th>\n",
              "      <th></th>\n",
              "      <th></th>\n",
              "      <th></th>\n",
              "      <th></th>\n",
              "      <th></th>\n",
              "      <th></th>\n",
              "      <th></th>\n",
              "      <th></th>\n",
              "      <th></th>\n",
              "    </tr>\n",
              "  </thead>\n",
              "  <tbody>\n",
              "    <tr>\n",
              "      <th>100002</th>\n",
              "      <td>1</td>\n",
              "      <td>0</td>\n",
              "      <td>1</td>\n",
              "      <td>0</td>\n",
              "      <td>1</td>\n",
              "      <td>6</td>\n",
              "      <td>7</td>\n",
              "      <td>4</td>\n",
              "      <td>3</td>\n",
              "      <td>1</td>\n",
              "      <td>6</td>\n",
              "      <td>2</td>\n",
              "      <td>0</td>\n",
              "      <td>5</td>\n",
              "      <td>0</td>\n",
              "    </tr>\n",
              "    <tr>\n",
              "      <th>100003</th>\n",
              "      <td>0</td>\n",
              "      <td>0</td>\n",
              "      <td>0</td>\n",
              "      <td>0</td>\n",
              "      <td>0</td>\n",
              "      <td>1</td>\n",
              "      <td>4</td>\n",
              "      <td>1</td>\n",
              "      <td>1</td>\n",
              "      <td>1</td>\n",
              "      <td>1</td>\n",
              "      <td>2</td>\n",
              "      <td>0</td>\n",
              "      <td>0</td>\n",
              "      <td>0</td>\n",
              "    </tr>\n",
              "    <tr>\n",
              "      <th>100004</th>\n",
              "      <td>0</td>\n",
              "      <td>1</td>\n",
              "      <td>1</td>\n",
              "      <td>1</td>\n",
              "      <td>1</td>\n",
              "      <td>6</td>\n",
              "      <td>7</td>\n",
              "      <td>4</td>\n",
              "      <td>3</td>\n",
              "      <td>1</td>\n",
              "      <td>1</td>\n",
              "      <td>0</td>\n",
              "      <td>1</td>\n",
              "      <td>3</td>\n",
              "      <td>0</td>\n",
              "    </tr>\n",
              "    <tr>\n",
              "      <th>100006</th>\n",
              "      <td>0</td>\n",
              "      <td>0</td>\n",
              "      <td>0</td>\n",
              "      <td>0</td>\n",
              "      <td>1</td>\n",
              "      <td>6</td>\n",
              "      <td>7</td>\n",
              "      <td>4</td>\n",
              "      <td>0</td>\n",
              "      <td>1</td>\n",
              "      <td>6</td>\n",
              "      <td>0</td>\n",
              "      <td>1</td>\n",
              "      <td>3</td>\n",
              "      <td>0</td>\n",
              "    </tr>\n",
              "    <tr>\n",
              "      <th>100007</th>\n",
              "      <td>0</td>\n",
              "      <td>0</td>\n",
              "      <td>1</td>\n",
              "      <td>0</td>\n",
              "      <td>1</td>\n",
              "      <td>6</td>\n",
              "      <td>7</td>\n",
              "      <td>4</td>\n",
              "      <td>3</td>\n",
              "      <td>1</td>\n",
              "      <td>4</td>\n",
              "      <td>0</td>\n",
              "      <td>1</td>\n",
              "      <td>3</td>\n",
              "      <td>0</td>\n",
              "    </tr>\n",
              "  </tbody>\n",
              "</table>\n",
              "</div>\n",
              "      <button class=\"colab-df-convert\" onclick=\"convertToInteractive('df-0c48b58f-bef6-40a1-8697-5eae831b43b1')\"\n",
              "              title=\"Convert this dataframe to an interactive table.\"\n",
              "              style=\"display:none;\">\n",
              "        \n",
              "  <svg xmlns=\"http://www.w3.org/2000/svg\" height=\"24px\"viewBox=\"0 0 24 24\"\n",
              "       width=\"24px\">\n",
              "    <path d=\"M0 0h24v24H0V0z\" fill=\"none\"/>\n",
              "    <path d=\"M18.56 5.44l.94 2.06.94-2.06 2.06-.94-2.06-.94-.94-2.06-.94 2.06-2.06.94zm-11 1L8.5 8.5l.94-2.06 2.06-.94-2.06-.94L8.5 2.5l-.94 2.06-2.06.94zm10 10l.94 2.06.94-2.06 2.06-.94-2.06-.94-.94-2.06-.94 2.06-2.06.94z\"/><path d=\"M17.41 7.96l-1.37-1.37c-.4-.4-.92-.59-1.43-.59-.52 0-1.04.2-1.43.59L10.3 9.45l-7.72 7.72c-.78.78-.78 2.05 0 2.83L4 21.41c.39.39.9.59 1.41.59.51 0 1.02-.2 1.41-.59l7.78-7.78 2.81-2.81c.8-.78.8-2.07 0-2.86zM5.41 20L4 18.59l7.72-7.72 1.47 1.35L5.41 20z\"/>\n",
              "  </svg>\n",
              "      </button>\n",
              "      \n",
              "  <style>\n",
              "    .colab-df-container {\n",
              "      display:flex;\n",
              "      flex-wrap:wrap;\n",
              "      gap: 12px;\n",
              "    }\n",
              "\n",
              "    .colab-df-convert {\n",
              "      background-color: #E8F0FE;\n",
              "      border: none;\n",
              "      border-radius: 50%;\n",
              "      cursor: pointer;\n",
              "      display: none;\n",
              "      fill: #1967D2;\n",
              "      height: 32px;\n",
              "      padding: 0 0 0 0;\n",
              "      width: 32px;\n",
              "    }\n",
              "\n",
              "    .colab-df-convert:hover {\n",
              "      background-color: #E2EBFA;\n",
              "      box-shadow: 0px 1px 2px rgba(60, 64, 67, 0.3), 0px 1px 3px 1px rgba(60, 64, 67, 0.15);\n",
              "      fill: #174EA6;\n",
              "    }\n",
              "\n",
              "    [theme=dark] .colab-df-convert {\n",
              "      background-color: #3B4455;\n",
              "      fill: #D2E3FC;\n",
              "    }\n",
              "\n",
              "    [theme=dark] .colab-df-convert:hover {\n",
              "      background-color: #434B5C;\n",
              "      box-shadow: 0px 1px 3px 1px rgba(0, 0, 0, 0.15);\n",
              "      filter: drop-shadow(0px 1px 2px rgba(0, 0, 0, 0.3));\n",
              "      fill: #FFFFFF;\n",
              "    }\n",
              "  </style>\n",
              "\n",
              "      <script>\n",
              "        const buttonEl =\n",
              "          document.querySelector('#df-0c48b58f-bef6-40a1-8697-5eae831b43b1 button.colab-df-convert');\n",
              "        buttonEl.style.display =\n",
              "          google.colab.kernel.accessAllowed ? 'block' : 'none';\n",
              "\n",
              "        async function convertToInteractive(key) {\n",
              "          const element = document.querySelector('#df-0c48b58f-bef6-40a1-8697-5eae831b43b1');\n",
              "          const dataTable =\n",
              "            await google.colab.kernel.invokeFunction('convertToInteractive',\n",
              "                                                     [key], {});\n",
              "          if (!dataTable) return;\n",
              "\n",
              "          const docLinkHtml = 'Like what you see? Visit the ' +\n",
              "            '<a target=\"_blank\" href=https://colab.research.google.com/notebooks/data_table.ipynb>data table notebook</a>'\n",
              "            + ' to learn more about interactive tables.';\n",
              "          element.innerHTML = '';\n",
              "          dataTable['output_type'] = 'display_data';\n",
              "          await google.colab.output.renderOutput(dataTable, element);\n",
              "          const docLink = document.createElement('div');\n",
              "          docLink.innerHTML = docLinkHtml;\n",
              "          element.appendChild(docLink);\n",
              "        }\n",
              "      </script>\n",
              "    </div>\n",
              "  </div>\n",
              "  "
            ]
          },
          "metadata": {},
          "execution_count": 23
        }
      ]
    },
    {
      "cell_type": "markdown",
      "source": [
        "### Standardization"
      ],
      "metadata": {
        "id": "ochVwufa2Wv5"
      }
    },
    {
      "cell_type": "markdown",
      "source": [
        "Semua kolom numerikal dilakukan proses standarisasi dengan StandardScaler."
      ],
      "metadata": {
        "id": "y3nVWylN2Zsn"
      }
    },
    {
      "cell_type": "code",
      "source": [
        "numerical_cols = [col for col in data_raw.columns.tolist() if col not in categorical_cols + ['TARGET']]"
      ],
      "metadata": {
        "id": "PCq_T2MI2Si5"
      },
      "execution_count": 24,
      "outputs": []
    },
    {
      "cell_type": "code",
      "source": [
        "len(numerical_cols)"
      ],
      "metadata": {
        "colab": {
          "base_uri": "https://localhost:8080/"
        },
        "id": "EEl0moPdDQhR",
        "outputId": "3cdfebc0-98ee-45e2-ee17-3dc9feff741d"
      },
      "execution_count": 25,
      "outputs": [
        {
          "output_type": "execute_result",
          "data": {
            "text/plain": [
              "62"
            ]
          },
          "metadata": {},
          "execution_count": 25
        }
      ]
    },
    {
      "cell_type": "code",
      "source": [
        "from sklearn.preprocessing import StandardScaler\n",
        "\n",
        "ss = StandardScaler()\n",
        "std = pd.DataFrame(ss.fit_transform(data_raw[numerical_cols]), columns=numerical_cols)"
      ],
      "metadata": {
        "id": "Se3kkX-J2hAS"
      },
      "execution_count": 26,
      "outputs": []
    },
    {
      "cell_type": "code",
      "source": [
        "std.head()"
      ],
      "metadata": {
        "colab": {
          "base_uri": "https://localhost:8080/",
          "height": 299
        },
        "id": "3n-vUrO52kvQ",
        "outputId": "4bba2928-a4cc-4b83-eb4e-295fa2709349"
      },
      "execution_count": 27,
      "outputs": [
        {
          "output_type": "execute_result",
          "data": {
            "text/plain": [
              "   CNT_CHILDREN  AMT_INCOME_TOTAL  AMT_CREDIT  REGION_POPULATION_RELATIVE  \\\n",
              "0     -0.577538          0.142129   -0.478095                   -0.149452   \n",
              "1     -0.577538          0.426792    1.725450                   -1.252750   \n",
              "2     -0.577538         -0.427196   -1.152888                   -0.783451   \n",
              "3     -0.577538         -0.142533   -0.711430                   -0.928991   \n",
              "4     -0.577538         -0.199466   -0.213734                    0.563570   \n",
              "\n",
              "   DAYS_BIRTH  DAYS_EMPLOYED  DAYS_REGISTRATION  DAYS_ID_PUBLISH  OWN_CAR_AGE  \\\n",
              "0    1.506880      -0.456215           0.379837         0.579154    -0.455284   \n",
              "1   -0.166821      -0.460115           1.078697         1.790855    -0.455284   \n",
              "2   -0.689509      -0.453299           0.206116         0.306869     2.430559   \n",
              "3   -0.680114      -0.473217          -1.375829         0.369143    -0.455284   \n",
              "4   -0.892535      -0.473210           0.191639        -0.307263    -0.455284   \n",
              "\n",
              "   FLAG_MOBIL  ...  FLAG_DOCUMENT_18  FLAG_DOCUMENT_19  FLAG_DOCUMENT_20  \\\n",
              "0    0.001803  ...         -0.090534         -0.024402         -0.022529   \n",
              "1    0.001803  ...         -0.090534         -0.024402         -0.022529   \n",
              "2    0.001803  ...         -0.090534         -0.024402         -0.022529   \n",
              "3    0.001803  ...         -0.090534         -0.024402         -0.022529   \n",
              "4    0.001803  ...         -0.090534         -0.024402         -0.022529   \n",
              "\n",
              "   FLAG_DOCUMENT_21  AMT_REQ_CREDIT_BUREAU_HOUR  AMT_REQ_CREDIT_BUREAU_DAY  \\\n",
              "0         -0.018305                   -0.070987                  -0.058766   \n",
              "1         -0.018305                   -0.070987                  -0.058766   \n",
              "2         -0.018305                   -0.070987                  -0.058766   \n",
              "3         -0.018305                   -0.070987                  -0.058766   \n",
              "4         -0.018305                   -0.070987                  -0.058766   \n",
              "\n",
              "   AMT_REQ_CREDIT_BUREAU_WEEK  AMT_REQ_CREDIT_BUREAU_MON  \\\n",
              "0                   -0.155837                  -0.269947   \n",
              "1                   -0.155837                  -0.269947   \n",
              "2                   -0.155837                  -0.269947   \n",
              "3                   -0.155837                  -0.269947   \n",
              "4                   -0.155837                  -0.269947   \n",
              "\n",
              "   AMT_REQ_CREDIT_BUREAU_QRT  AMT_REQ_CREDIT_BUREAU_YEAR  \n",
              "0                   -0.30862                   -0.346719  \n",
              "1                   -0.30862                   -0.885565  \n",
              "2                   -0.30862                   -0.885565  \n",
              "3                   -0.30862                   -0.885565  \n",
              "4                   -0.30862                   -0.885565  \n",
              "\n",
              "[5 rows x 62 columns]"
            ],
            "text/html": [
              "\n",
              "  <div id=\"df-25a0b7f5-bab4-497f-86a9-92b83e34f407\">\n",
              "    <div class=\"colab-df-container\">\n",
              "      <div>\n",
              "<style scoped>\n",
              "    .dataframe tbody tr th:only-of-type {\n",
              "        vertical-align: middle;\n",
              "    }\n",
              "\n",
              "    .dataframe tbody tr th {\n",
              "        vertical-align: top;\n",
              "    }\n",
              "\n",
              "    .dataframe thead th {\n",
              "        text-align: right;\n",
              "    }\n",
              "</style>\n",
              "<table border=\"1\" class=\"dataframe\">\n",
              "  <thead>\n",
              "    <tr style=\"text-align: right;\">\n",
              "      <th></th>\n",
              "      <th>CNT_CHILDREN</th>\n",
              "      <th>AMT_INCOME_TOTAL</th>\n",
              "      <th>AMT_CREDIT</th>\n",
              "      <th>REGION_POPULATION_RELATIVE</th>\n",
              "      <th>DAYS_BIRTH</th>\n",
              "      <th>DAYS_EMPLOYED</th>\n",
              "      <th>DAYS_REGISTRATION</th>\n",
              "      <th>DAYS_ID_PUBLISH</th>\n",
              "      <th>OWN_CAR_AGE</th>\n",
              "      <th>FLAG_MOBIL</th>\n",
              "      <th>...</th>\n",
              "      <th>FLAG_DOCUMENT_18</th>\n",
              "      <th>FLAG_DOCUMENT_19</th>\n",
              "      <th>FLAG_DOCUMENT_20</th>\n",
              "      <th>FLAG_DOCUMENT_21</th>\n",
              "      <th>AMT_REQ_CREDIT_BUREAU_HOUR</th>\n",
              "      <th>AMT_REQ_CREDIT_BUREAU_DAY</th>\n",
              "      <th>AMT_REQ_CREDIT_BUREAU_WEEK</th>\n",
              "      <th>AMT_REQ_CREDIT_BUREAU_MON</th>\n",
              "      <th>AMT_REQ_CREDIT_BUREAU_QRT</th>\n",
              "      <th>AMT_REQ_CREDIT_BUREAU_YEAR</th>\n",
              "    </tr>\n",
              "  </thead>\n",
              "  <tbody>\n",
              "    <tr>\n",
              "      <th>0</th>\n",
              "      <td>-0.577538</td>\n",
              "      <td>0.142129</td>\n",
              "      <td>-0.478095</td>\n",
              "      <td>-0.149452</td>\n",
              "      <td>1.506880</td>\n",
              "      <td>-0.456215</td>\n",
              "      <td>0.379837</td>\n",
              "      <td>0.579154</td>\n",
              "      <td>-0.455284</td>\n",
              "      <td>0.001803</td>\n",
              "      <td>...</td>\n",
              "      <td>-0.090534</td>\n",
              "      <td>-0.024402</td>\n",
              "      <td>-0.022529</td>\n",
              "      <td>-0.018305</td>\n",
              "      <td>-0.070987</td>\n",
              "      <td>-0.058766</td>\n",
              "      <td>-0.155837</td>\n",
              "      <td>-0.269947</td>\n",
              "      <td>-0.30862</td>\n",
              "      <td>-0.346719</td>\n",
              "    </tr>\n",
              "    <tr>\n",
              "      <th>1</th>\n",
              "      <td>-0.577538</td>\n",
              "      <td>0.426792</td>\n",
              "      <td>1.725450</td>\n",
              "      <td>-1.252750</td>\n",
              "      <td>-0.166821</td>\n",
              "      <td>-0.460115</td>\n",
              "      <td>1.078697</td>\n",
              "      <td>1.790855</td>\n",
              "      <td>-0.455284</td>\n",
              "      <td>0.001803</td>\n",
              "      <td>...</td>\n",
              "      <td>-0.090534</td>\n",
              "      <td>-0.024402</td>\n",
              "      <td>-0.022529</td>\n",
              "      <td>-0.018305</td>\n",
              "      <td>-0.070987</td>\n",
              "      <td>-0.058766</td>\n",
              "      <td>-0.155837</td>\n",
              "      <td>-0.269947</td>\n",
              "      <td>-0.30862</td>\n",
              "      <td>-0.885565</td>\n",
              "    </tr>\n",
              "    <tr>\n",
              "      <th>2</th>\n",
              "      <td>-0.577538</td>\n",
              "      <td>-0.427196</td>\n",
              "      <td>-1.152888</td>\n",
              "      <td>-0.783451</td>\n",
              "      <td>-0.689509</td>\n",
              "      <td>-0.453299</td>\n",
              "      <td>0.206116</td>\n",
              "      <td>0.306869</td>\n",
              "      <td>2.430559</td>\n",
              "      <td>0.001803</td>\n",
              "      <td>...</td>\n",
              "      <td>-0.090534</td>\n",
              "      <td>-0.024402</td>\n",
              "      <td>-0.022529</td>\n",
              "      <td>-0.018305</td>\n",
              "      <td>-0.070987</td>\n",
              "      <td>-0.058766</td>\n",
              "      <td>-0.155837</td>\n",
              "      <td>-0.269947</td>\n",
              "      <td>-0.30862</td>\n",
              "      <td>-0.885565</td>\n",
              "    </tr>\n",
              "    <tr>\n",
              "      <th>3</th>\n",
              "      <td>-0.577538</td>\n",
              "      <td>-0.142533</td>\n",
              "      <td>-0.711430</td>\n",
              "      <td>-0.928991</td>\n",
              "      <td>-0.680114</td>\n",
              "      <td>-0.473217</td>\n",
              "      <td>-1.375829</td>\n",
              "      <td>0.369143</td>\n",
              "      <td>-0.455284</td>\n",
              "      <td>0.001803</td>\n",
              "      <td>...</td>\n",
              "      <td>-0.090534</td>\n",
              "      <td>-0.024402</td>\n",
              "      <td>-0.022529</td>\n",
              "      <td>-0.018305</td>\n",
              "      <td>-0.070987</td>\n",
              "      <td>-0.058766</td>\n",
              "      <td>-0.155837</td>\n",
              "      <td>-0.269947</td>\n",
              "      <td>-0.30862</td>\n",
              "      <td>-0.885565</td>\n",
              "    </tr>\n",
              "    <tr>\n",
              "      <th>4</th>\n",
              "      <td>-0.577538</td>\n",
              "      <td>-0.199466</td>\n",
              "      <td>-0.213734</td>\n",
              "      <td>0.563570</td>\n",
              "      <td>-0.892535</td>\n",
              "      <td>-0.473210</td>\n",
              "      <td>0.191639</td>\n",
              "      <td>-0.307263</td>\n",
              "      <td>-0.455284</td>\n",
              "      <td>0.001803</td>\n",
              "      <td>...</td>\n",
              "      <td>-0.090534</td>\n",
              "      <td>-0.024402</td>\n",
              "      <td>-0.022529</td>\n",
              "      <td>-0.018305</td>\n",
              "      <td>-0.070987</td>\n",
              "      <td>-0.058766</td>\n",
              "      <td>-0.155837</td>\n",
              "      <td>-0.269947</td>\n",
              "      <td>-0.30862</td>\n",
              "      <td>-0.885565</td>\n",
              "    </tr>\n",
              "  </tbody>\n",
              "</table>\n",
              "<p>5 rows × 62 columns</p>\n",
              "</div>\n",
              "      <button class=\"colab-df-convert\" onclick=\"convertToInteractive('df-25a0b7f5-bab4-497f-86a9-92b83e34f407')\"\n",
              "              title=\"Convert this dataframe to an interactive table.\"\n",
              "              style=\"display:none;\">\n",
              "        \n",
              "  <svg xmlns=\"http://www.w3.org/2000/svg\" height=\"24px\"viewBox=\"0 0 24 24\"\n",
              "       width=\"24px\">\n",
              "    <path d=\"M0 0h24v24H0V0z\" fill=\"none\"/>\n",
              "    <path d=\"M18.56 5.44l.94 2.06.94-2.06 2.06-.94-2.06-.94-.94-2.06-.94 2.06-2.06.94zm-11 1L8.5 8.5l.94-2.06 2.06-.94-2.06-.94L8.5 2.5l-.94 2.06-2.06.94zm10 10l.94 2.06.94-2.06 2.06-.94-2.06-.94-.94-2.06-.94 2.06-2.06.94z\"/><path d=\"M17.41 7.96l-1.37-1.37c-.4-.4-.92-.59-1.43-.59-.52 0-1.04.2-1.43.59L10.3 9.45l-7.72 7.72c-.78.78-.78 2.05 0 2.83L4 21.41c.39.39.9.59 1.41.59.51 0 1.02-.2 1.41-.59l7.78-7.78 2.81-2.81c.8-.78.8-2.07 0-2.86zM5.41 20L4 18.59l7.72-7.72 1.47 1.35L5.41 20z\"/>\n",
              "  </svg>\n",
              "      </button>\n",
              "      \n",
              "  <style>\n",
              "    .colab-df-container {\n",
              "      display:flex;\n",
              "      flex-wrap:wrap;\n",
              "      gap: 12px;\n",
              "    }\n",
              "\n",
              "    .colab-df-convert {\n",
              "      background-color: #E8F0FE;\n",
              "      border: none;\n",
              "      border-radius: 50%;\n",
              "      cursor: pointer;\n",
              "      display: none;\n",
              "      fill: #1967D2;\n",
              "      height: 32px;\n",
              "      padding: 0 0 0 0;\n",
              "      width: 32px;\n",
              "    }\n",
              "\n",
              "    .colab-df-convert:hover {\n",
              "      background-color: #E2EBFA;\n",
              "      box-shadow: 0px 1px 2px rgba(60, 64, 67, 0.3), 0px 1px 3px 1px rgba(60, 64, 67, 0.15);\n",
              "      fill: #174EA6;\n",
              "    }\n",
              "\n",
              "    [theme=dark] .colab-df-convert {\n",
              "      background-color: #3B4455;\n",
              "      fill: #D2E3FC;\n",
              "    }\n",
              "\n",
              "    [theme=dark] .colab-df-convert:hover {\n",
              "      background-color: #434B5C;\n",
              "      box-shadow: 0px 1px 3px 1px rgba(0, 0, 0, 0.15);\n",
              "      filter: drop-shadow(0px 1px 2px rgba(0, 0, 0, 0.3));\n",
              "      fill: #FFFFFF;\n",
              "    }\n",
              "  </style>\n",
              "\n",
              "      <script>\n",
              "        const buttonEl =\n",
              "          document.querySelector('#df-25a0b7f5-bab4-497f-86a9-92b83e34f407 button.colab-df-convert');\n",
              "        buttonEl.style.display =\n",
              "          google.colab.kernel.accessAllowed ? 'block' : 'none';\n",
              "\n",
              "        async function convertToInteractive(key) {\n",
              "          const element = document.querySelector('#df-25a0b7f5-bab4-497f-86a9-92b83e34f407');\n",
              "          const dataTable =\n",
              "            await google.colab.kernel.invokeFunction('convertToInteractive',\n",
              "                                                     [key], {});\n",
              "          if (!dataTable) return;\n",
              "\n",
              "          const docLinkHtml = 'Like what you see? Visit the ' +\n",
              "            '<a target=\"_blank\" href=https://colab.research.google.com/notebooks/data_table.ipynb>data table notebook</a>'\n",
              "            + ' to learn more about interactive tables.';\n",
              "          element.innerHTML = '';\n",
              "          dataTable['output_type'] = 'display_data';\n",
              "          await google.colab.output.renderOutput(dataTable, element);\n",
              "          const docLink = document.createElement('div');\n",
              "          docLink.innerHTML = docLinkHtml;\n",
              "          element.appendChild(docLink);\n",
              "        }\n",
              "      </script>\n",
              "    </div>\n",
              "  </div>\n",
              "  "
            ]
          },
          "metadata": {},
          "execution_count": 27
        }
      ]
    },
    {
      "cell_type": "markdown",
      "source": [
        "### Transformed Dataframe"
      ],
      "metadata": {
        "id": "rOfjP9W32qha"
      }
    },
    {
      "cell_type": "markdown",
      "source": [
        "Menggabungkan kembali kolom-kolom hasil transformasi "
      ],
      "metadata": {
        "id": "nGIGB4lt2tCc"
      }
    },
    {
      "cell_type": "code",
      "source": [
        "data_model = pd.concat([encod.drop('TARGET', axis=1), std, data_raw[['TARGET']]], axis=1)"
      ],
      "metadata": {
        "id": "8NwCZR1jI9j8"
      },
      "execution_count": 28,
      "outputs": []
    },
    {
      "cell_type": "code",
      "source": [
        "data_model.dropna(axis=0, inplace=True)"
      ],
      "metadata": {
        "id": "ZCRLwCVzIzoX"
      },
      "execution_count": 29,
      "outputs": []
    },
    {
      "cell_type": "markdown",
      "source": [
        "# MODELING"
      ],
      "metadata": {
        "id": "_S6uxpoz3uu7"
      }
    },
    {
      "cell_type": "markdown",
      "source": [
        "### Train-Test Split"
      ],
      "metadata": {
        "id": "wFq1rE6O36sb"
      }
    },
    {
      "cell_type": "code",
      "source": [
        "from sklearn.model_selection import train_test_split"
      ],
      "metadata": {
        "id": "4I0fzd0T2xKh"
      },
      "execution_count": 30,
      "outputs": []
    },
    {
      "cell_type": "code",
      "source": [
        "X = data_model.drop('TARGET', axis=1)\n",
        "y = data_model['TARGET']\n",
        "\n",
        "X_train, X_test, y_train, y_test = train_test_split(X, y, test_size=0.2, random_state=42)"
      ],
      "metadata": {
        "id": "N0n_2rLs3-Gw"
      },
      "execution_count": 31,
      "outputs": []
    },
    {
      "cell_type": "code",
      "source": [
        "X_train.shape, X_test.shape"
      ],
      "metadata": {
        "colab": {
          "base_uri": "https://localhost:8080/"
        },
        "id": "cWDO8UYF4EJg",
        "outputId": "bde41f7f-1517-4ac6-9bc7-d6b9087a48c7"
      },
      "execution_count": 32,
      "outputs": [
        {
          "output_type": "execute_result",
          "data": {
            "text/plain": [
              "((143258, 76), (35815, 76))"
            ]
          },
          "metadata": {},
          "execution_count": 32
        }
      ]
    },
    {
      "cell_type": "markdown",
      "source": [
        "### Training"
      ],
      "metadata": {
        "id": "_dUQhZ1W4LC8"
      }
    },
    {
      "cell_type": "markdown",
      "source": [
        "Pada contoh ini digunakan algoritma Random Forest untuk pemodelan."
      ],
      "metadata": {
        "id": "BT43ovXx4OZp"
      }
    },
    {
      "cell_type": "code",
      "source": [
        "from sklearn.ensemble import RandomForestClassifier\n",
        "from sklearn.linear_model import LogisticRegression\n",
        "\n",
        "from sklearn.metrics import classification_report"
      ],
      "metadata": {
        "id": "GlBzHkKz4IUU"
      },
      "execution_count": 33,
      "outputs": []
    },
    {
      "cell_type": "markdown",
      "source": [
        "Random Forest Classifier:"
      ],
      "metadata": {
        "id": "mM3VrHJ9Mm5O"
      }
    },
    {
      "cell_type": "code",
      "source": [
        "rfc = RandomForestClassifier()\n",
        "rfc.fit(X_train, y_train)"
      ],
      "metadata": {
        "colab": {
          "base_uri": "https://localhost:8080/"
        },
        "id": "uh9k1ludNJSZ",
        "outputId": "15485bcc-b04b-413a-b93b-08b1cffe0fd2"
      },
      "execution_count": 34,
      "outputs": [
        {
          "output_type": "execute_result",
          "data": {
            "text/plain": [
              "RandomForestClassifier()"
            ]
          },
          "metadata": {},
          "execution_count": 34
        }
      ]
    },
    {
      "cell_type": "code",
      "source": [
        "# testing\n",
        "y_pred = rfc.predict(X_test)\n",
        "\n",
        "# evaluasi\n",
        "print(classification_report(y_test, y_pred))"
      ],
      "metadata": {
        "colab": {
          "base_uri": "https://localhost:8080/"
        },
        "id": "-_30Tkzq7sD-",
        "outputId": "26709126-b6fd-43d5-c21e-e56c4e0efca0"
      },
      "execution_count": 35,
      "outputs": [
        {
          "output_type": "stream",
          "name": "stdout",
          "text": [
            "              precision    recall  f1-score   support\n",
            "\n",
            "         0.0       0.92      1.00      0.96     32857\n",
            "         1.0       0.00      0.00      0.00      2958\n",
            "\n",
            "    accuracy                           0.92     35815\n",
            "   macro avg       0.46      0.50      0.48     35815\n",
            "weighted avg       0.84      0.92      0.88     35815\n",
            "\n"
          ]
        }
      ]
    },
    {
      "cell_type": "markdown",
      "source": [
        "Logistic Regression:"
      ],
      "metadata": {
        "id": "wUFhhseCM1u3"
      }
    },
    {
      "cell_type": "code",
      "source": [
        "lr = LogisticRegression()\n",
        "lr.fit(X_train, y_train)"
      ],
      "metadata": {
        "colab": {
          "base_uri": "https://localhost:8080/"
        },
        "id": "LIZwo3YUNNtj",
        "outputId": "93734b7f-2161-4a2b-d1b4-6e830a801388"
      },
      "execution_count": 36,
      "outputs": [
        {
          "output_type": "execute_result",
          "data": {
            "text/plain": [
              "LogisticRegression()"
            ]
          },
          "metadata": {},
          "execution_count": 36
        }
      ]
    },
    {
      "cell_type": "code",
      "source": [
        "# testing\n",
        "y_pred = lr.predict(X_test)\n",
        "\n",
        "# evaluasi\n",
        "print(classification_report(y_test, y_pred))"
      ],
      "metadata": {
        "colab": {
          "base_uri": "https://localhost:8080/"
        },
        "outputId": "eaab7146-69b3-4bcf-a0f4-fcb408ba2150",
        "id": "lX_H5PLVM1u3"
      },
      "execution_count": 37,
      "outputs": [
        {
          "output_type": "stream",
          "name": "stdout",
          "text": [
            "              precision    recall  f1-score   support\n",
            "\n",
            "         0.0       0.92      1.00      0.96     32857\n",
            "         1.0       0.00      0.00      0.00      2958\n",
            "\n",
            "    accuracy                           0.92     35815\n",
            "   macro avg       0.46      0.50      0.48     35815\n",
            "weighted avg       0.84      0.92      0.88     35815\n",
            "\n"
          ]
        }
      ]
    },
    {
      "cell_type": "code",
      "source": [],
      "metadata": {
        "id": "2HV1ZHrOM781"
      },
      "execution_count": 37,
      "outputs": []
    }
  ]
}